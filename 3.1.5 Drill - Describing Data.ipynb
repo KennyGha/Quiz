{
 "cells": [
  {
   "cell_type": "code",
   "execution_count": 6,
   "metadata": {},
   "outputs": [],
   "source": [
    "import pandas as pd\n",
    "import numpy as np\n",
    "from scipy import stats"
   ]
  },
  {
   "cell_type": "code",
   "execution_count": 14,
   "metadata": {},
   "outputs": [
    {
     "name": "stdout",
     "output_type": "stream",
     "text": [
      "mean : 9.85714285714\n",
      "median : 10.0\n",
      "mode : ModeResult(mode=array([8]), count=array([2]))\n",
      "SD : 2.53143502095\n",
      "Var : 6.40816326531\n",
      "SD Error : 1.03345401972\n"
     ]
    }
   ],
   "source": [
    "#Q1\n",
    "age =[14,12,11,10,8,6,8]\n",
    "print('mean :',np.mean(age))\n",
    "print('median :',np.median(age))\n",
    "print('mode :',stats.mode(age))\n",
    "print('SD :',np.std(age))\n",
    "print('Var :',np.var(age))\n",
    "print('SD Error :',stats.sem(age))"
   ]
  },
  {
   "cell_type": "code",
   "execution_count": null,
   "metadata": {},
   "outputs": [],
   "source": [
    "#Q2 not sure the relationship among them"
   ]
  },
  {
   "cell_type": "code",
   "execution_count": 11,
   "metadata": {},
   "outputs": [
    {
     "name": "stdout",
     "output_type": "stream",
     "text": [
      "10.0\n",
      "10.0\n",
      "ModeResult(mode=array([8]), count=array([2]))\n",
      "2.32992949004\n",
      "5.42857142857\n",
      "0.951189731211\n"
     ]
    }
   ],
   "source": [
    "#Q3\n",
    "age =[14,12,11,10,8,7,8]\n",
    "print('mean :',np.mean(age))\n",
    "print('median :',np.median(age))\n",
    "print('mode :',stats.mode(age))\n",
    "print('SD :',np.std(age))\n",
    "print('Var :',np.var(age))\n",
    "print('SD Error :',stats.sem(age))\n",
    "# The mean has rised up a bit\n",
    "# SD increase by 1\n",
    "# SD error decrease"
   ]
  },
  {
   "cell_type": "code",
   "execution_count": 12,
   "metadata": {},
   "outputs": [
    {
     "name": "stdout",
     "output_type": "stream",
     "text": [
      "9.0\n",
      "10.0\n",
      "ModeResult(mode=array([1]), count=array([1]))\n",
      "3.92792202425\n",
      "15.4285714286\n",
      "1.60356745147\n"
     ]
    }
   ],
   "source": [
    "age =[14,12,11,10,8,7,1]\n",
    "print('mean :',np.mean(age))\n",
    "print('median :',np.median(age))\n",
    "print('mode :',stats.mode(age))\n",
    "print('SD :',np.std(age))\n",
    "print('Var :',np.var(age))\n",
    "print('SD Error :',stats.sem(age))\n",
    "#mean and decrease a lot"
   ]
  },
  {
   "cell_type": "code",
   "execution_count": 18,
   "metadata": {},
   "outputs": [
    {
     "name": "stdout",
     "output_type": "stream",
     "text": [
      "20.0\n"
     ]
    }
   ],
   "source": [
    "# The interest of SciPhi Phanatic  is diff from other \n",
    "print ((23+17)/2)"
   ]
  },
  {
   "cell_type": "code",
   "execution_count": null,
   "metadata": {},
   "outputs": [],
   "source": []
  }
 ],
 "metadata": {
  "kernelspec": {
   "display_name": "Python 3",
   "language": "python",
   "name": "python3"
  },
  "language_info": {
   "codemirror_mode": {
    "name": "ipython",
    "version": 3
   },
   "file_extension": ".py",
   "mimetype": "text/x-python",
   "name": "python",
   "nbconvert_exporter": "python",
   "pygments_lexer": "ipython3",
   "version": "3.6.2"
  }
 },
 "nbformat": 4,
 "nbformat_minor": 2
}

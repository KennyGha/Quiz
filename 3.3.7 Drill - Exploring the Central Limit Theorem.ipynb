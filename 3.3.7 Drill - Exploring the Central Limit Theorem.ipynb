{
 "cells": [
  {
   "cell_type": "code",
   "execution_count": 60,
   "metadata": {
    "collapsed": true
   },
   "outputs": [],
   "source": [
    "import numpy as np\n",
    "import pandas as pd\n",
    "import scipy\n",
    "from scipy.stats import ttest_ind\n",
    "import matplotlib.pyplot as plt\n",
    "%matplotlib inline"
   ]
  },
  {
   "cell_type": "code",
   "execution_count": 64,
   "metadata": {},
   "outputs": [
    {
     "name": "stdout",
     "output_type": "stream",
     "text": [
      "Pop 1 Mean :2.0224\n",
      "Pop 2 Mean :4.9965\n",
      "Sam 1 Mean :2.02\n",
      "Sam 2 Mean :4.96\n",
      "Pop 1 STD :1.25749681511\n",
      "Pop 2 STD :1.59037346243\n",
      "Sam 1 STD :1.13119405939\n",
      "Sam 2 STD :1.43471251476\n"
     ]
    },
    {
     "data": {
      "image/png": "[encoded data removed]",
      "text/plain": [
       "<matplotlib.figure.Figure at 0xdc8eb32eb8>"
      ]
     },
     "metadata": {},
     "output_type": "display_data"
    },
    {
     "data": {
      "image/png": "[encoded data removed]",
      "text/plain": [
       "<matplotlib.figure.Figure at 0xdc90947ef0>"
      ]
     },
     "metadata": {},
     "output_type": "display_data"
    }
   ],
   "source": [
    "pop1 = np.random.binomial(10, 0.2, 10000)\n",
    "pop2 = np.random.binomial(10,0.5, 10000) \n",
    "\n",
    "sam1 = np.random.choice(pop1,  100)\n",
    "sam2 = np.random.choice(pop2, 100) \n",
    "\n",
    "print('Pop 1 Mean :' + str(pop1.mean()))\n",
    "print('Pop 2 Mean :' + str(pop2.mean()))\n",
    "print('Sam 1 Mean :' + str(sam1.mean()))\n",
    "print('Sam 2 Mean :' + str(sam2.mean()))\n",
    "print('Pop 1 STD :' + str(pop1.std()))\n",
    "print('Pop 2 STD :' + str(pop2.std()))\n",
    "print('Sam 1 STD :' + str(sam1.std()))\n",
    "print('Sam 2 STD :' + str(sam2.std()))\n",
    "\n",
    "\n",
    "plt.hist(pop1, alpha=0.5, label='Population 1') \n",
    "plt.hist(pop2, alpha=0.5, label='Population 2') \n",
    "plt.legend(loc='upper right') \n",
    "plt.show()\n",
    "\n",
    "\n",
    "plt.hist(sam1, alpha=0.5, label='Sample 1') \n",
    "plt.hist(sam2, alpha=0.5, label='Sample 2') \n",
    "plt.legend(loc='upper right') \n",
    "plt.show()"
   ]
  },
  {
   "cell_type": "code",
   "execution_count": 65,
   "metadata": {},
   "outputs": [
    {
     "name": "stdout",
     "output_type": "stream",
     "text": [
      "Pop 1 Mean :2.0224\n",
      "Pop 2 Mean :4.9965\n",
      "Sam 1 Mean :1.99\n",
      "Sam 2 Mean :5.04\n",
      "Pop 1 STD :1.25749681511\n",
      "Pop 2 STD :1.59037346243\n",
      "Sam 1 STD :1.26566188218\n",
      "Sam 2 STD :1.61814708849\n"
     ]
    },
    {
     "data": {
      "image/png": "[encoded data removed]",
      "text/plain": [
       "<matplotlib.figure.Figure at 0xdc84a45198>"
      ]
     },
     "metadata": {},
     "output_type": "display_data"
    }
   ],
   "source": [
    "sam1 = np.random.choice(pop1,  1000)\n",
    "sam2 = np.random.choice(pop2, 1000) \n",
    "\n",
    "print('Pop 1 Mean :' + str(pop1.mean()))\n",
    "print('Pop 2 Mean :' + str(pop2.mean()))\n",
    "print('Sam 1 Mean :' + str(sam1.mean()))\n",
    "print('Sam 2 Mean :' + str(sam2.mean()))\n",
    "print('Pop 1 STD :' + str(pop1.std()))\n",
    "print('Pop 2 STD :' + str(pop2.std()))\n",
    "print('Sam 1 STD :' + str(sam1.std()))\n",
    "print('Sam 2 STD :' + str(sam2.std()))\n",
    "\n",
    "plt.hist(sam1, alpha=0.5, label='Sample 1') \n",
    "plt.hist(sam2, alpha=0.5, label='Sample 2') \n",
    "plt.legend(loc='upper right') \n",
    "plt.show()"
   ]
  },
  {
   "cell_type": "code",
   "execution_count": 66,
   "metadata": {},
   "outputs": [
    {
     "name": "stdout",
     "output_type": "stream",
     "text": [
      "Pop 1 Mean :2.0224\n",
      "Pop 2 Mean :4.9965\n",
      "Sam 1 Mean :1.75\n",
      "Sam 2 Mean :4.95\n",
      "Pop 1 STD :1.25749681511\n",
      "Pop 2 STD :1.59037346243\n",
      "Sam 1 STD :0.887411967465\n",
      "Sam 2 STD :1.3955285737\n"
     ]
    },
    {
     "data": {
      "image/png": "[encoded data removed]",
      "text/plain": [
       "<matplotlib.figure.Figure at 0xdc84a2a588>"
      ]
     },
     "metadata": {},
     "output_type": "display_data"
    }
   ],
   "source": [
    "sam1 = np.random.choice(pop1,  20)\n",
    "sam2 = np.random.choice(pop2, 20) \n",
    "print('Pop 1 Mean :' + str(pop1.mean()))\n",
    "print('Pop 2 Mean :' + str(pop2.mean()))\n",
    "print('Sam 1 Mean :' + str(sam1.mean()))\n",
    "print('Sam 2 Mean :' + str(sam2.mean()))\n",
    "print('Pop 1 STD :' + str(pop1.std()))\n",
    "print('Pop 2 STD :' + str(pop2.std()))\n",
    "print('Sam 1 STD :' + str(sam1.std()))\n",
    "print('Sam 2 STD :' + str(sam2.std()))\n",
    "\n",
    "plt.hist(sam1, alpha=0.5, label='Sample 1') \n",
    "plt.hist(sam2, alpha=0.5, label='Sample 2') \n",
    "plt.legend(loc='upper right') \n",
    "plt.show()"
   ]
  },
  {
   "cell_type": "code",
   "execution_count": 69,
   "metadata": {},
   "outputs": [
    {
     "name": "stdout",
     "output_type": "stream",
     "text": [
      "Ttest_indResult(statistic=-8.1625386887222611, pvalue=3.7827560426352794e-14)\n"
     ]
    }
   ],
   "source": [
    "pop1 = np.random.binomial(10, 0.3, 10000)\n",
    "pop2 = np.random.binomial(10,0.5, 10000) \n",
    "\n",
    "sam1 = np.random.choice(pop1, 100, replace=True)\n",
    "sam2 = np.random.choice(pop2, 100, replace=True)\n",
    "\n",
    "\n",
    "print(ttest_ind(sam1, sam2, equal_var=False))\n",
    "\n",
    "\n"
   ]
  },
  {
   "cell_type": "code",
   "execution_count": 70,
   "metadata": {},
   "outputs": [
    {
     "name": "stdout",
     "output_type": "stream",
     "text": [
      "Ttest_indResult(statistic=-3.8455380448635128, pvalue=0.00016212633523745822)\n"
     ]
    }
   ],
   "source": [
    "pop1 = np.random.binomial(10, 0.4, 10000)\n",
    "pop2 = np.random.binomial(10,0.5, 10000) \n",
    "\n",
    "sam1 = np.random.choice(pop1, 100, replace=True)\n",
    "sam2 = np.random.choice(pop2, 100, replace=True)\n",
    "\n",
    "print(ttest_ind(sam1, sam2, equal_var=False))"
   ]
  },
  {
   "cell_type": "code",
   "execution_count": null,
   "metadata": {
    "collapsed": true
   },
   "outputs": [],
   "source": [
    "pop1 = np.random.binomial(10, 0.4, 10000)\n",
    "pop2 = np.random.binomial(10,0.5, 10000) \n",
    "\n",
    "sam1 = np.random.binomial(10, 0.2, 100)\n",
    "sam2 = np.random.binomial(10,0.5, 100) \n",
    "\n",
    "print('Pop 1 Mean :' + str(pop1.mean()))\n",
    "print('Pop 2 Mean :' + str(pop2.mean()))\n",
    "print('Sam 1 Mean :' + str(sam1.mean()))\n",
    "print('Sam 2 Mean :' + str(sam2.mean()))\n",
    "print('Pop 1 STD :' + str(pop1.std()))\n",
    "print('Pop 2 STD :' + str(pop2.std()))\n",
    "print('Sam 1 STD :' + str(sam1.std()))\n",
    "print('Sam 2 STD :' + str(sam2.std()))\n",
    "\n",
    "print(ttest_ind(sam1, sam2, equal_var=False))\n",
    "\n",
    "plt.hist(pop1, alpha=0.5, label='Population 1') \n",
    "plt.hist(pop2, alpha=0.5, label='Population 2') \n",
    "plt.legend(loc='upper right') \n",
    "plt.show()\n",
    "\n",
    "\n",
    "plt.hist(sam1, alpha=0.5, label='Sample 1') \n",
    "plt.hist(sam2, alpha=0.5, label='Sample 2') \n",
    "plt.legend(loc='upper right') \n",
    "plt.show()"
   ]
  },
  {
   "cell_type": "code",
   "execution_count": 71,
   "metadata": {},
   "outputs": [
    {
     "name": "stdout",
     "output_type": "stream",
     "text": [
      "Pop 1 Mean :39.9894\n",
      "Pop 2 Mean :10.0415\n",
      "Sam 1 Mean :39.93\n",
      "Sam 2 Mean :10.21\n",
      "Pop 1 STD :14.2917979149\n",
      "Pop 2 STD :4.48934045824\n",
      "Sam 1 STD :15.1810770369\n",
      "Sam 2 STD :4.48841842969\n"
     ]
    },
    {
     "data": {
      "image/png": "[encoded data removed]",
      "text/plain": [
       "<matplotlib.figure.Figure at 0xdc8ff78390>"
      ]
     },
     "metadata": {},
     "output_type": "display_data"
    },
    {
     "data": {
      "image/png": "[encoded data removed]",
      "text/plain": [
       "<matplotlib.figure.Figure at 0xdc908ba4a8>"
      ]
     },
     "metadata": {},
     "output_type": "display_data"
    }
   ],
   "source": [
    "pop1 = np.random.negative_binomial(10, 0.2, 10000)\n",
    "pop2 = np.random.negative_binomial(10,0.5, 10000) \n",
    "\n",
    "sam1 = np.random.choice(pop1,  100)\n",
    "sam2 = np.random.choice(pop2, 100) \n",
    "\n",
    "print('Pop 1 Mean :' + str(pop1.mean()))\n",
    "print('Pop 2 Mean :' + str(pop2.mean()))\n",
    "print('Sam 1 Mean :' + str(sam1.mean()))\n",
    "print('Sam 2 Mean :' + str(sam2.mean()))\n",
    "print('Pop 1 STD :' + str(pop1.std()))\n",
    "print('Pop 2 STD :' + str(pop2.std()))\n",
    "print('Sam 1 STD :' + str(sam1.std()))\n",
    "print('Sam 2 STD :' + str(sam2.std()))\n",
    "\n",
    "\n",
    "plt.hist(pop1, alpha=0.5, label='Population 1') \n",
    "plt.hist(pop2, alpha=0.5, label='Population 2') \n",
    "plt.legend(loc='upper right') \n",
    "plt.show()\n",
    "\n",
    "\n",
    "plt.hist(sam1, alpha=0.5, label='Sample 1') \n",
    "plt.hist(sam2, alpha=0.5, label='Sample 2') \n",
    "plt.legend(loc='upper right') \n",
    "plt.show()"
   ]
  },
  {
   "cell_type": "code",
   "execution_count": 72,
   "metadata": {},
   "outputs": [
    {
     "name": "stdout",
     "output_type": "stream",
     "text": [
      "Pop 1 Mean :39.9894\n",
      "Pop 2 Mean :10.0415\n",
      "Sam 1 Mean :40.114\n",
      "Sam 2 Mean :10.02\n",
      "Pop 1 STD :14.2917979149\n",
      "Pop 2 STD :4.48934045824\n",
      "Sam 1 STD :14.3656884276\n",
      "Sam 2 STD :4.29576535672\n"
     ]
    },
    {
     "data": {
      "image/png": "[encoded data removed]",
      "text/plain": [
       "<matplotlib.figure.Figure at 0xdc8ff71c88>"
      ]
     },
     "metadata": {},
     "output_type": "display_data"
    }
   ],
   "source": [
    "sam1 = np.random.choice(pop1,  1000)\n",
    "sam2 = np.random.choice(pop2, 1000) \n",
    "\n",
    "print('Pop 1 Mean :' + str(pop1.mean()))\n",
    "print('Pop 2 Mean :' + str(pop2.mean()))\n",
    "print('Sam 1 Mean :' + str(sam1.mean()))\n",
    "print('Sam 2 Mean :' + str(sam2.mean()))\n",
    "print('Pop 1 STD :' + str(pop1.std()))\n",
    "print('Pop 2 STD :' + str(pop2.std()))\n",
    "print('Sam 1 STD :' + str(sam1.std()))\n",
    "print('Sam 2 STD :' + str(sam2.std()))\n",
    "\n",
    "plt.hist(sam1, alpha=0.5, label='Sample 1') \n",
    "plt.hist(sam2, alpha=0.5, label='Sample 2') \n",
    "plt.legend(loc='upper right') \n",
    "plt.show()"
   ]
  },
  {
   "cell_type": "code",
   "execution_count": 73,
   "metadata": {},
   "outputs": [
    {
     "name": "stdout",
     "output_type": "stream",
     "text": [
      "Pop 1 Mean :39.9894\n",
      "Pop 2 Mean :10.0415\n",
      "Sam 1 Mean :41.5\n",
      "Sam 2 Mean :10.35\n",
      "Pop 1 STD :14.2917979149\n",
      "Pop 2 STD :4.48934045824\n",
      "Sam 1 STD :16.7047897323\n",
      "Sam 2 STD :4.2458803563\n"
     ]
    },
    {
     "data": {
      "image/png": "[encoded data removed]",
      "text/plain": [
       "<matplotlib.figure.Figure at 0xdc8ebc60f0>"
      ]
     },
     "metadata": {},
     "output_type": "display_data"
    }
   ],
   "source": [
    "sam1 = np.random.choice(pop1,  20)\n",
    "sam2 = np.random.choice(pop2, 20) \n",
    "\n",
    "print('Pop 1 Mean :' + str(pop1.mean()))\n",
    "print('Pop 2 Mean :' + str(pop2.mean()))\n",
    "print('Sam 1 Mean :' + str(sam1.mean()))\n",
    "print('Sam 2 Mean :' + str(sam2.mean()))\n",
    "print('Pop 1 STD :' + str(pop1.std()))\n",
    "print('Pop 2 STD :' + str(pop2.std()))\n",
    "print('Sam 1 STD :' + str(sam1.std()))\n",
    "print('Sam 2 STD :' + str(sam2.std()))\n",
    "\n",
    "plt.hist(sam1, alpha=0.5, label='Sample 1') \n",
    "plt.hist(sam2, alpha=0.5, label='Sample 2') \n",
    "plt.legend(loc='upper right') \n",
    "plt.show()"
   ]
  },
  {
   "cell_type": "code",
   "execution_count": null,
   "metadata": {
    "collapsed": true
   },
   "outputs": [],
   "source": []
  }
 ],
 "metadata": {
  "kernelspec": {
   "display_name": "Python 3",
   "language": "python",
   "name": "python3"
  },
  "language_info": {
   "codemirror_mode": {
    "name": "ipython",
    "version": 3
   },
   "file_extension": ".py",
   "mimetype": "text/x-python",
   "name": "python",
   "nbconvert_exporter": "python",
   "pygments_lexer": "ipython3",
   "version": "3.6.2"
  }
 },
 "nbformat": 4,
 "nbformat_minor": 2
}
